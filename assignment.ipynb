{
 "cells": [
  {
   "cell_type": "code",
   "execution_count": 2,
   "id": "8d1a7a05-1423-4399-a8b8-4f0f065f33fe",
   "metadata": {
    "tags": []
   },
   "outputs": [
    {
     "data": {
      "text/plain": [
       "'Who developed Python programming language ?'"
      ]
     },
     "execution_count": 2,
     "metadata": {},
     "output_type": "execute_result"
    }
   ],
   "source": [
    "\"Who developed Python programming language ?\""
   ]
  },
  {
   "cell_type": "code",
   "execution_count": 4,
   "id": "697a5328-3ae9-4ee4-af6f-1ad227574e1f",
   "metadata": {
    "tags": []
   },
   "outputs": [
    {
     "data": {
      "text/plain": [
       "'Guido van Rossum.'"
      ]
     },
     "execution_count": 4,
     "metadata": {},
     "output_type": "execute_result"
    }
   ],
   "source": [
    "\"Guido van Rossum.\""
   ]
  },
  {
   "cell_type": "code",
   "execution_count": 5,
   "id": "6a06aaca-28f7-4474-98fe-b80cfd475388",
   "metadata": {},
   "outputs": [
    {
     "data": {
      "text/plain": [
       "'Which type of programming does Python support?'"
      ]
     },
     "execution_count": 5,
     "metadata": {},
     "output_type": "execute_result"
    }
   ],
   "source": [
    "\"Which type of programming does Python support?\""
   ]
  },
  {
   "cell_type": "code",
   "execution_count": 6,
   "id": "99be4e34-bd7e-4a18-9d6b-6a36415b109a",
   "metadata": {},
   "outputs": [
    {
     "data": {
      "text/plain": [
       "'Python is a multi-paradigm programming language. Object-oriented programming and stuctured programming are fully supported.'"
      ]
     },
     "execution_count": 6,
     "metadata": {},
     "output_type": "execute_result"
    }
   ],
   "source": [
    "\"Python is a multi-paradigm programming language. Object-oriented programming and stuctured programming are fully supported.\""
   ]
  },
  {
   "cell_type": "code",
   "execution_count": 7,
   "id": "ebfb31a6-ccb1-45ce-a264-d8adb75a6fe2",
   "metadata": {},
   "outputs": [
    {
     "data": {
      "text/plain": [
       "'Is Python case sensitive when dealing with identifiers.'"
      ]
     },
     "execution_count": 7,
     "metadata": {},
     "output_type": "execute_result"
    }
   ],
   "source": [
    "\"Is Python case sensitive when dealing with identifiers.\""
   ]
  },
  {
   "cell_type": "code",
   "execution_count": 8,
   "id": "8120dcf3-f383-41c0-8312-998b890e30be",
   "metadata": {},
   "outputs": [
    {
     "data": {
      "text/plain": [
       "'Yes, Python is a case sensitive language.'"
      ]
     },
     "execution_count": 8,
     "metadata": {},
     "output_type": "execute_result"
    }
   ],
   "source": [
    "\"Yes, Python is a case sensitive language.\""
   ]
  },
  {
   "cell_type": "code",
   "execution_count": 9,
   "id": "4c6f4de5-46b4-4c86-b5ea-1a04f03f7a91",
   "metadata": {},
   "outputs": [
    {
     "data": {
      "text/plain": [
       "'What is the correct extension of the Python file.'"
      ]
     },
     "execution_count": 9,
     "metadata": {},
     "output_type": "execute_result"
    }
   ],
   "source": [
    "\"What is the correct extension of the Python file.\""
   ]
  },
  {
   "cell_type": "code",
   "execution_count": 10,
   "id": "c0516f28-25b1-4c5c-8016-bdef2a91a200",
   "metadata": {},
   "outputs": [
    {
     "data": {
      "text/plain": [
       "'The extension for Python files are - .py, .pyi, .pyc .'"
      ]
     },
     "execution_count": 10,
     "metadata": {},
     "output_type": "execute_result"
    }
   ],
   "source": [
    "\"The extension for Python files are - .py, .pyi, .pyc .\""
   ]
  },
  {
   "cell_type": "code",
   "execution_count": 11,
   "id": "733596dd-01ab-4130-bb8c-98011ec2d9ff",
   "metadata": {},
   "outputs": [
    {
     "data": {
      "text/plain": [
       "'Is Python code compiled or interrupted ?'"
      ]
     },
     "execution_count": 11,
     "metadata": {},
     "output_type": "execute_result"
    }
   ],
   "source": [
    "\"Is Python code compiled or interpreted ?\""
   ]
  },
  {
   "cell_type": "code",
   "execution_count": 12,
   "id": "684e6a13-6077-4b5c-9526-bc090410a1c6",
   "metadata": {},
   "outputs": [
    {
     "data": {
      "text/plain": [
       "'Python is both compiled as well as an interpreted language.'"
      ]
     },
     "execution_count": 12,
     "metadata": {},
     "output_type": "execute_result"
    }
   ],
   "source": [
    "\"Python is both compiled as well as an interpreted language.\""
   ]
  },
  {
   "cell_type": "code",
   "execution_count": 13,
   "id": "2e823075-8f5b-48f5-af28-f4238fddefbd",
   "metadata": {},
   "outputs": [
    {
     "data": {
      "text/plain": [
       "'Name a few blocks of code used to define in Python language?'"
      ]
     },
     "execution_count": 13,
     "metadata": {},
     "output_type": "execute_result"
    }
   ],
   "source": [
    "\"Name a few blocks of code used to define in Python language?\""
   ]
  },
  {
   "cell_type": "code",
   "execution_count": 16,
   "id": "5fc9b76d-8fb0-4f6a-8963-a348b86e0886",
   "metadata": {},
   "outputs": [
    {
     "data": {
      "text/plain": [
       "'The following are blocks : a module ,a function body, and a class definition.'"
      ]
     },
     "execution_count": 16,
     "metadata": {},
     "output_type": "execute_result"
    }
   ],
   "source": [
    "'The following are blocks : a module ,a function body, and a class definition.'"
   ]
  },
  {
   "cell_type": "code",
   "execution_count": 17,
   "id": "ca01efa9-98aa-47ca-a150-92876c6358d2",
   "metadata": {},
   "outputs": [
    {
     "data": {
      "text/plain": [
       "'State a character used to give single-line comments in Python?'"
      ]
     },
     "execution_count": 17,
     "metadata": {},
     "output_type": "execute_result"
    }
   ],
   "source": [
    "\"State a character used to give single-line comments in Python?\""
   ]
  },
  {
   "cell_type": "code",
   "execution_count": 18,
   "id": "20c9a33f-426c-4c27-983d-0ae1fe771130",
   "metadata": {},
   "outputs": [
    {
     "data": {
      "text/plain": [
       "'Hash character(#) is used to comment the line in the Python program.'"
      ]
     },
     "execution_count": 18,
     "metadata": {},
     "output_type": "execute_result"
    }
   ],
   "source": [
    "\"Hash character(#) is used to comment the line in the Python program.\""
   ]
  },
  {
   "cell_type": "code",
   "execution_count": 19,
   "id": "13927b08-0c29-46ef-8d8c-7cf851dc6729",
   "metadata": {},
   "outputs": [
    {
     "data": {
      "text/plain": [
       "'Mention functions which can help us to find the version of python that we are currently working on?'"
      ]
     },
     "execution_count": 19,
     "metadata": {},
     "output_type": "execute_result"
    }
   ],
   "source": [
    "\"Mention functions which can help us to find the version of python that we are currently working on?\""
   ]
  },
  {
   "cell_type": "code",
   "execution_count": 23,
   "id": "3da0360c-ea9f-4c79-a1a1-61e4ed0cd6ac",
   "metadata": {},
   "outputs": [
    {
     "data": {
      "text/plain": [
       "'Using Python -V command'"
      ]
     },
     "execution_count": 23,
     "metadata": {},
     "output_type": "execute_result"
    }
   ],
   "source": [
    "\"Using sys.version method\"\n",
    "\"Using python_version() function\"\n",
    "\"Using Python -V command\""
   ]
  },
  {
   "cell_type": "code",
   "execution_count": 24,
   "id": "f3e2c887-9088-4a10-8af8-97e356df3309",
   "metadata": {},
   "outputs": [
    {
     "data": {
      "text/plain": [
       "'Python supports the creation of anonymous functios at runtime, using a constuct called____________'"
      ]
     },
     "execution_count": 24,
     "metadata": {},
     "output_type": "execute_result"
    }
   ],
   "source": [
    "\"Python supports the creation of anonymous functios at runtime, using a constuct called____________\""
   ]
  },
  {
   "cell_type": "code",
   "execution_count": 26,
   "id": "f87cb8b1-62a0-4f3f-9a10-3038116abbac",
   "metadata": {},
   "outputs": [
    {
     "data": {
      "text/plain": [
       "'lambda'"
      ]
     },
     "execution_count": 26,
     "metadata": {},
     "output_type": "execute_result"
    }
   ],
   "source": [
    "\"lambda\""
   ]
  },
  {
   "cell_type": "code",
   "execution_count": 27,
   "id": "0065f00e-ed8a-4176-aaab-cd29c2302d7e",
   "metadata": {
    "tags": []
   },
   "outputs": [
    {
     "data": {
      "text/plain": [
       "'What does pip stand for python?'"
      ]
     },
     "execution_count": 27,
     "metadata": {},
     "output_type": "execute_result"
    }
   ],
   "source": [
    "\"What does pip stand for python?\""
   ]
  },
  {
   "cell_type": "code",
   "execution_count": null,
   "id": "3d68ebfa-1e0b-42c5-a3b0-a41bd318f123",
   "metadata": {},
   "outputs": [],
   "source": [
    "\"Pip is a powerful tool that helps youproperly manage distribution packages in Python.\""
   ]
  },
  {
   "cell_type": "code",
   "execution_count": null,
   "id": "de947a8e-fd1f-4a55-a3bf-3e2bd83a1696",
   "metadata": {},
   "outputs": [],
   "source": [
    "\"mention a few built-in functions in Python?\""
   ]
  },
  {
   "cell_type": "code",
   "execution_count": null,
   "id": "ba1e5255-be17-483e-a90e-0601e1a18afc",
   "metadata": {},
   "outputs": [],
   "source": [
    "\"abs().\", \"all().\" ,\"any().\", \"ascii().\", \"bin().\", \"chr().\" , \"dir().\""
   ]
  },
  {
   "cell_type": "code",
   "execution_count": null,
   "id": "b8465472-a5bf-440b-ba80-71dfca6f70b7",
   "metadata": {},
   "outputs": [],
   "source": [
    "\"What is the maximum possible length of an identifier in Python ?\""
   ]
  },
  {
   "cell_type": "code",
   "execution_count": null,
   "id": "a7645dae-55ca-4377-85a2-9760c294ceb9",
   "metadata": {},
   "outputs": [],
   "source": [
    "\"An identifier can have a maximum length of 79 characters in Python.\""
   ]
  },
  {
   "cell_type": "code",
   "execution_count": null,
   "id": "97fe3f58-3ca6-4d70-b992-8de813e74ce7",
   "metadata": {},
   "outputs": [],
   "source": [
    "\"What are the benefits of using Python?\""
   ]
  },
  {
   "cell_type": "code",
   "execution_count": null,
   "id": "76953350-68df-43bb-89e3-efaaa70b126e",
   "metadata": {},
   "outputs": [],
   "source": [
    "\"Earning potential\"\n",
    "\"Ease of comprehension\"\n",
    "\"flexibility\"\n",
    "\"Used in many industries\""
   ]
  },
  {
   "cell_type": "code",
   "execution_count": null,
   "id": "e94e6c86-51eb-4523-8318-7cc6a0cc37a2",
   "metadata": {},
   "outputs": [],
   "source": [
    "\"How is memory managed in Python ?\""
   ]
  },
  {
   "cell_type": "code",
   "execution_count": null,
   "id": "1b9f1066-ed53-4ba5-ab04-210186ffc5a5",
   "metadata": {},
   "outputs": [],
   "source": [
    "\"Memory managed in Python involves a private heap containing all Python objects and data structures.\""
   ]
  },
  {
   "cell_type": "code",
   "execution_count": null,
   "id": "2b7a2f50-5463-4a0b-bbed-4eea7cc3a680",
   "metadata": {},
   "outputs": [],
   "source": [
    "\"How to install Python on Windows and set path variables?\""
   ]
  },
  {
   "cell_type": "code",
   "execution_count": 1,
   "id": "7ac469f6-91af-47a2-90f9-e8fc38b30f8c",
   "metadata": {
    "collapsed": true,
    "jupyter": {
     "outputs_hidden": true
    },
    "tags": []
   },
   "outputs": [
    {
     "data": {
      "text/plain": [
       "\"Clicking on New and entering Python's install directory\""
      ]
     },
     "execution_count": 1,
     "metadata": {},
     "output_type": "execute_result"
    }
   ],
   "source": [
    "\"Right clicking This PC and going to properties.\"\n",
    "\"Clicking on the Advanced system setting in the menu on the left\"\n",
    "\"Clicking on the Environment Variables button on the bottom right\"\n",
    "\"In the system variables section, selecting the Path variable and clicking on Edit. The next screen will show all the directories that are currently a part of PATH variable\"\n",
    "\"Clicking on New and entering Python's install directory\""
   ]
  },
  {
   "cell_type": "code",
   "execution_count": 2,
   "id": "78eb09ff-a35a-47df-9645-af4e9b1df8f2",
   "metadata": {},
   "outputs": [
    {
     "data": {
      "text/plain": [
       "'Is indentation required in Python ?'"
      ]
     },
     "execution_count": 2,
     "metadata": {},
     "output_type": "execute_result"
    }
   ],
   "source": [
    "\"Is indentation required in Python ?\""
   ]
  },
  {
   "cell_type": "code",
   "execution_count": null,
   "id": "0d4c695b-e045-40db-8f34-707efbe61252",
   "metadata": {},
   "outputs": [],
   "source": [
    "\"YES, indentation is a very important concept of Python\""
   ]
  }
 ],
 "metadata": {
  "kernelspec": {
   "display_name": "Python 3 (ipykernel)",
   "language": "python",
   "name": "python3"
  },
  "language_info": {
   "codemirror_mode": {
    "name": "ipython",
    "version": 3
   },
   "file_extension": ".py",
   "mimetype": "text/x-python",
   "name": "python",
   "nbconvert_exporter": "python",
   "pygments_lexer": "ipython3",
   "version": "3.10.8"
  }
 },
 "nbformat": 4,
 "nbformat_minor": 5
}
